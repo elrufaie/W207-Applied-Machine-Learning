{
 "cells": [
  {
   "cell_type": "markdown",
   "metadata": {},
   "source": [
    "# Project 2: Topic Classification"
   ]
  },
  {
   "cell_type": "markdown",
   "metadata": {},
   "source": [
    "In this project, you'll work with text data from newsgroup postings on a variety of topics. You'll train classifiers to distinguish between the topics based on the text of the posts. Whereas with digit classification, the input is relatively dense: a 28x28 matrix of pixels, many of which are non-zero, here we'll represent each document with a \"bag-of-words\" model. As you'll see, this makes the feature representation quite sparse -- only a few words of the total vocabulary are active in any given document. The bag-of-words assumption here is that the label depends only on the words; their order is not important.\n",
    "\n",
    "The SK-learn documentation on feature extraction will prove useful:\n",
    "http://scikit-learn.org/stable/modules/feature_extraction.html\n",
    "\n",
    "Each problem can be addressed succinctly with the included packages -- please don't add any more. Grading will be based on writing clean, commented code, along with a few short answers.\n",
    "\n",
    "As always, you're welcome to work on the project in groups and discuss ideas on the course wall, but please prepare your own write-up and write your own code."
   ]
  },
  {
   "cell_type": "code",
   "execution_count": 1,
   "metadata": {},
   "outputs": [],
   "source": [
    "# This tells matplotlib not to try opening a new window for each plot.\n",
    "%matplotlib inline\n",
    "\n",
    "# General libraries.\n",
    "import re\n",
    "import numpy as np\n",
    "import matplotlib.pyplot as plt\n",
    "\n",
    "# SK-learn libraries for learning.\n",
    "from sklearn.pipeline import Pipeline\n",
    "from sklearn.neighbors import KNeighborsClassifier\n",
    "from sklearn.linear_model import LogisticRegression\n",
    "from sklearn.naive_bayes import BernoulliNB\n",
    "from sklearn.naive_bayes import MultinomialNB\n",
    "from sklearn.model_selection import GridSearchCV\n",
    "\n",
    "# SK-learn libraries for evaluation.\n",
    "from sklearn.metrics import confusion_matrix\n",
    "from sklearn import metrics\n",
    "from sklearn.metrics import classification_report\n",
    "\n",
    "# SK-learn library for importing the newsgroup data.\n",
    "from sklearn.datasets import fetch_20newsgroups\n",
    "\n",
    "# SK-learn libraries for feature extraction from text.\n",
    "from sklearn.feature_extraction.text import *"
   ]
  },
  {
   "cell_type": "markdown",
   "metadata": {},
   "source": [
    "Load the data, stripping out metadata so that we learn classifiers that only use textual features. By default, newsgroups data is split into train and test sets. We further split the test so we have a dev set. Note that we specify 4 categories to use for this project. If you remove the categories argument from the fetch function, you'll get all 20 categories."
   ]
  },
  {
   "cell_type": "code",
   "execution_count": 2,
   "metadata": {},
   "outputs": [
    {
     "name": "stdout",
     "output_type": "stream",
     "text": [
      "training label shape: (2034,)\n",
      "test label shape: (677,)\n",
      "dev label shape: (676,)\n",
      "labels names: ['alt.atheism', 'comp.graphics', 'sci.space', 'talk.religion.misc']\n"
     ]
    }
   ],
   "source": [
    "categories = ['alt.atheism', 'talk.religion.misc', 'comp.graphics', 'sci.space']\n",
    "newsgroups_train = fetch_20newsgroups(subset='train',\n",
    "                                      remove=('headers', 'footers', 'quotes'),\n",
    "                                      categories=categories)\n",
    "newsgroups_test = fetch_20newsgroups(subset='test',\n",
    "                                     remove=('headers', 'footers', 'quotes'),\n",
    "                                     categories=categories)\n",
    "\n",
    "num_test = len(newsgroups_test.target)\n",
    "test_data, test_labels = newsgroups_test.data[num_test/2:], newsgroups_test.target[num_test/2:]\n",
    "dev_data, dev_labels = newsgroups_test.data[:num_test/2], newsgroups_test.target[:num_test/2]\n",
    "train_data, train_labels = newsgroups_train.data, newsgroups_train.target\n",
    "\n",
    "print 'training label shape:', train_labels.shape\n",
    "print 'test label shape:', test_labels.shape\n",
    "print 'dev label shape:', dev_labels.shape\n",
    "print 'labels names:', newsgroups_train.target_names"
   ]
  },
  {
   "cell_type": "markdown",
   "metadata": {},
   "source": [
    "(1) For each of the first 5 training examples, print the text of the message along with the label.\n",
    "\n",
    "[2 pts]"
   ]
  },
  {
   "cell_type": "code",
   "execution_count": 3,
   "metadata": {},
   "outputs": [
    {
     "name": "stdout",
     "output_type": "stream",
     "text": [
      "label= comp.graphics\n",
      "text= Hi,\n",
      "\n",
      "I've noticed that if you only save a model (with all your mapping planes\n",
      "positioned carefully) to a .3DS file that when you reload it after restarting\n",
      "3DS, they are given a default position and orientation.  But if you save\n",
      "to a .PRJ file their positions/orientation are preserved.  Does anyone\n",
      "know why this information is not stored in the .3DS file?  Nothing is\n",
      "explicitly said in the manual about saving texture rules in the .PRJ file. \n",
      "I'd like to be able to read the texture rule information, does anyone have \n",
      "the format for the .PRJ file?\n",
      "\n",
      "Is the .CEL file format available from somewhere?\n",
      "\n",
      "Rych\n",
      "\n",
      "-*-*-*-*-*-*-*-*-*-*-*-*-*-*-*-*-*-*-*-*-*-*-*-*-*-*-*-*\n",
      "\n",
      "label= talk.religion.misc\n",
      "text= \n",
      "\n",
      "Seems to be, barring evidence to the contrary, that Koresh was simply\n",
      "another deranged fanatic who thought it neccessary to take a whole bunch of\n",
      "folks with him, children and all, to satisfy his delusional mania. Jim\n",
      "Jones, circa 1993.\n",
      "\n",
      "\n",
      "Nope - fruitcakes like Koresh have been demonstrating such evil corruption\n",
      "for centuries.\n",
      "\n",
      "-*-*-*-*-*-*-*-*-*-*-*-*-*-*-*-*-*-*-*-*-*-*-*-*-*-*-*-*\n",
      "\n",
      "label= sci.space\n",
      "text= \n",
      " >In article <1993Apr19.020359.26996@sq.sq.com>, msb@sq.sq.com (Mark Brader) \n",
      "\n",
      "MB>                                                             So the\n",
      "MB> 1970 figure seems unlikely to actually be anything but a perijove.\n",
      "\n",
      "JG>Sorry, _perijoves_...I'm not used to talking this language.\n",
      "\n",
      "Couldn't we just say periapsis or apoapsis?\n",
      "\n",
      " \n",
      "\n",
      "-*-*-*-*-*-*-*-*-*-*-*-*-*-*-*-*-*-*-*-*-*-*-*-*-*-*-*-*\n",
      "\n",
      "label= alt.atheism\n",
      "text= I have a request for those who would like to see Charley Wingate\n",
      "respond to the \"Charley Challenges\" (and judging from my e-mail, there\n",
      "appear to be quite a few of you.)  \n",
      "\n",
      "It is clear that Mr. Wingate intends to continue to post tangential or\n",
      "unrelated articles while ingoring the Challenges themselves.  Between\n",
      "the last two re-postings of the Challenges, I noted perhaps a dozen or\n",
      "more posts by Mr. Wingate, none of which answered a single Challenge.  \n",
      "\n",
      "It seems unmistakable to me that Mr. Wingate hopes that the questions\n",
      "will just go away, and he is doing his level best to change the\n",
      "subject.  Given that this seems a rather common net.theist tactic, I\n",
      "would like to suggest that we impress upon him our desire for answers,\n",
      "in the following manner:\n",
      "\n",
      "1. Ignore any future articles by Mr. Wingate that do not address the\n",
      "Challenges, until he answers them or explictly announces that he\n",
      "refuses to do so.\n",
      "\n",
      "--or--\n",
      "\n",
      "2. If you must respond to one of his articles, include within it\n",
      "something similar to the following:\n",
      "\n",
      "    \"Please answer the questions posed to you in the Charley Challenges.\"\n",
      "\n",
      "Really, I'm not looking to humiliate anyone here, I just want some\n",
      "honest answers.  You wouldn't think that honesty would be too much to\n",
      "ask from a devout Christian, would you?  \n",
      "\n",
      "Nevermind, that was a rhetorical question.\n",
      "\n",
      "-*-*-*-*-*-*-*-*-*-*-*-*-*-*-*-*-*-*-*-*-*-*-*-*-*-*-*-*\n",
      "\n",
      "label= sci.space\n",
      "text= AW&ST  had a brief blurb on a Manned Lunar Exploration confernce\n",
      "May 7th  at Crystal City Virginia, under the auspices of AIAA.\n",
      "\n",
      "Does anyone know more about this?  How much, to attend????\n",
      "\n",
      "Anyone want to go?\n",
      "\n",
      "-*-*-*-*-*-*-*-*-*-*-*-*-*-*-*-*-*-*-*-*-*-*-*-*-*-*-*-*\n",
      "\n"
     ]
    }
   ],
   "source": [
    "def P1(num_examples=5):\n",
    "### STUDENT START ###\n",
    "    for index in range(num_examples):\n",
    "        print 'label=', newsgroups_train.target_names[train_labels[index]]\n",
    "        print 'text=', train_data[index]\n",
    "        print '\\n-*-*-*-*-*-*-*-*-*-*-*-*-*-*-*-*-*-*-*-*-*-*-*-*-*-*-*-*\\n'\n",
    "\n",
    "### STUDENT END ###\n",
    "P1(5)"
   ]
  },
  {
   "cell_type": "markdown",
   "metadata": {},
   "source": [
    "(2) Use CountVectorizer to turn the raw training text into feature vectors. You should use the fit_transform function, which makes 2 passes through the data: first it computes the vocabulary (\"fit\"), second it converts the raw text into feature vectors using the vocabulary (\"transform\").\n",
    "\n",
    "The vectorizer has a lot of options. To get familiar with some of them, write code to answer these questions:\n",
    "\n",
    "a. The output of the transform (also of fit_transform) is a sparse matrix: http://docs.scipy.org/doc/scipy-0.14.0/reference/generated/scipy.sparse.csr_matrix.html. What is the size of the vocabulary? What is the average number of non-zero features per example? What fraction of the entries in the matrix are non-zero? Hint: use \"nnz\" and \"shape\" attributes.\n",
    "\n",
    "b. What are the 0th and last feature strings (in alphabetical order)? Hint: use the vectorizer's get_feature_names function.\n",
    "\n",
    "c. Specify your own vocabulary with 4 words: [\"atheism\", \"graphics\", \"space\", \"religion\"]. Confirm the training vectors are appropriately shaped. Now what's the average number of non-zero features per example?\n",
    "\n",
    "d. Instead of extracting unigram word features, use \"analyzer\" and \"ngram_range\" to extract bigram and trigram character features. What size vocabulary does this yield?\n",
    "\n",
    "e. Use the \"min_df\" argument to prune words that appear in fewer than 10 documents. What size vocabulary does this yield?\n",
    "\n",
    "f. Using the standard CountVectorizer, what fraction of the words in the dev data are missing from the vocabulary? Hint: build a vocabulary for both train and dev and look at the size of the difference.\n",
    "\n",
    "[6 pts]"
   ]
  },
  {
   "cell_type": "code",
   "execution_count": 4,
   "metadata": {},
   "outputs": [
    {
     "name": "stdout",
     "output_type": "stream",
     "text": [
      "a. size of vocabulary is=26879\n",
      "a. average number of non-zero features per example is=96.7059980334\n",
      "b. 0th feature string=00\n",
      "b. last feature string=zyxel\n",
      "c. shape is=(2034, 4)\n",
      "c. average number of non-zero features per example is=0.268436578171\n",
      "d. size of vocabulary is=35478\n",
      "e. size of vocabulary is=3064\n",
      "f. vectorizer_train size=26879\n",
      "f. vectorizer_dev size=16246\n",
      "f. vocabulary size difference=4027\n"
     ]
    }
   ],
   "source": [
    "def P2():\n",
    "### STUDENT START ###\n",
    "    vectorizer = CountVectorizer()\n",
    "    vectorizer_train = vectorizer.fit_transform(train_data)\n",
    "    \n",
    "    ## Part A...\n",
    "    print 'a. size of vocabulary is={}'.format(vectorizer_train.shape[1])\n",
    "    print 'a. average number of non-zero features per example is={}'.format(np.average(vectorizer_train.getnnz(axis=1)))\n",
    "    \n",
    "    ## Part B...\n",
    "    print 'b. 0th feature string={}'.format(vectorizer.get_feature_names()[0])\n",
    "    print 'b. last feature string={}'.format(vectorizer.get_feature_names()[-1])\n",
    "    \n",
    "    ## Part C...\n",
    "    \n",
    "    vocab = [\"atheism\", \"graphics\", \"space\", \"religion\"]\n",
    "    vectorizer_with_vocab = CountVectorizer(vocabulary=vocab)\n",
    "    vectorizer_vocab_train = vectorizer_with_vocab.fit_transform(train_data)\n",
    "    print 'c. shape is={}'.format(vectorizer_vocab_train.shape)\n",
    "    print 'c. average number of non-zero features per example is={}'.format(np.average(vectorizer_vocab_train.getnnz(axis=1)))\n",
    "    \n",
    "    ## Part D...\n",
    "    \n",
    "    vectorizer = CountVectorizer(analyzer=\"char\", ngram_range=(2,3))\n",
    "    doc_matrix = vectorizer.fit_transform(train_data)\n",
    "    print 'd. size of vocabulary is={}'.format(doc_matrix.shape[1])\n",
    "    \n",
    "    ## Part E...\n",
    "    \n",
    "    vectorizer = CountVectorizer(min_df=10)\n",
    "    doc_matrix = vectorizer.fit_transform(train_data)\n",
    "    print 'e. size of vocabulary is={}'.format(doc_matrix.shape[1])\n",
    "    \n",
    "    ## Part F...\n",
    "    \n",
    "    vectorizer = CountVectorizer()\n",
    "    vectorizer_train = vectorizer.fit_transform(train_data)\n",
    "    features_train = vectorizer.get_feature_names()\n",
    "    \n",
    "    vectorizer_dev = vectorizer.fit_transform(dev_data)\n",
    "    features_dev = vectorizer.get_feature_names()\n",
    "    \n",
    "    print 'f. vectorizer_train size={}'.format(vectorizer_train.shape[1])\n",
    "    print 'f. vectorizer_dev size={}'.format(vectorizer_dev.shape[1])\n",
    "    difference = set(features_dev).difference(features_train)\n",
    "    print 'f. vocabulary size difference={}'.format(len(difference))\n",
    "    \n",
    "### STUDENT END ###\n",
    "P2()"
   ]
  },
  {
   "cell_type": "markdown",
   "metadata": {},
   "source": [
    "(3) Use the default CountVectorizer options and report the f1 score (use metrics.f1_score) for a k nearest neighbors classifier; find the optimal value for k. Also fit a Multinomial Naive Bayes model and find the optimal value for alpha. Finally, fit a logistic regression model and find the optimal value for the regularization strength C using l2 regularization. A few questions:\n",
    "\n",
    "a. Why doesn't nearest neighbors work well for this problem?\n",
    "\n",
    "b. Any ideas why logistic regression doesn't work as well as Naive Bayes?\n",
    "\n",
    "c. Logistic regression estimates a weight vector for each class, which you can access with the coef\\_ attribute. Output the sum of the squared weight values for each class for each setting of the C parameter. Briefly explain the relationship between the sum and the value of C.\n",
    "\n",
    "[4 pts]"
   ]
  },
  {
   "cell_type": "code",
   "execution_count": 41,
   "metadata": {},
   "outputs": [
    {
     "name": "stdout",
     "output_type": "stream",
     "text": [
      "optimal k value is=9, with score=0.423\n",
      "multinomial optimal value is=0.1, with score=0.793\n",
      "logistic regression optimal value is=0.2, with score=0.713\n"
     ]
    }
   ],
   "source": [
    "def P3():\n",
    "### STUDENT START ###\n",
    "    vectorizer1 = CountVectorizer()\n",
    "    vc1_data = vectorizer1.fit_transform(train_data)\n",
    "    \n",
    "    vectorizer2 = CountVectorizer()\n",
    "    vc2_data = vectorizer2.fit(train_data)\n",
    "    vc2_data = vectorizer2.transform(dev_data)\n",
    "    \n",
    "    #Fit KNN Model..\n",
    "    k_values = {'n_neighbors' : [n for n in range(1, 10)]}\n",
    "    knn = KNeighborsClassifier()\n",
    "    knn_model = GridSearchCV(knn, k_values, scoring=\"f1_macro\")\n",
    "    knn_model.fit(vc1_data, train_labels)\n",
    "    score = knn_model.score(vc2_data, dev_labels) \n",
    "    \n",
    "    print 'optimal k value is={}, with score={:.3f}'.format(knn_model.best_params_[\"n_neighbors\"], score)\n",
    "   \n",
    "    ##Fit Multinomial Model...\n",
    "    alphas = {'alpha' : [a/10. for a in range(0, 11)]}\n",
    "    mm = MultinomialNB()\n",
    "    mm_model = GridSearchCV(mm, alphas)\n",
    "    mm_model.fit(vc1_data, train_labels)\n",
    "    score = mm_model.score(vc2_data, dev_labels) \n",
    "    \n",
    "    print 'multinomial optimal value is={}, with score={:.3f}'.format(mm_model.best_params_[\"alpha\"], score)\n",
    "\n",
    "    ##Fit Logistic Regression Model..\n",
    "    \n",
    "    c_values = {'C' : [a/10. for a in range(1, 11)]}\n",
    "    log_reg = LogisticRegression()\n",
    "    lr_model = GridSearchCV(log_reg, c_values)\n",
    "    lr_model.fit(vc1_data, train_labels)\n",
    "    score = lr_model.score(vc2_data, dev_labels) \n",
    "    \n",
    "    print 'logistic regression optimal value is={}, with score={:.3f}'.format(lr_model.best_params_[\"C\"], score)\n",
    "    \n",
    "### STUDENT END ###\n",
    "P3()"
   ]
  },
  {
   "cell_type": "markdown",
   "metadata": {},
   "source": [
    "a. In general knn works poorly in high dimensions problems. This problem is an example of that. \n",
    "\n",
    "b. \n",
    "\n",
    "c. "
   ]
  },
  {
   "cell_type": "markdown",
   "metadata": {},
   "source": [
    "ANSWER:"
   ]
  },
  {
   "cell_type": "markdown",
   "metadata": {},
   "source": [
    "(4) Train a logistic regression model. Find the 5 features with the largest weights for each label -- 20 features in total. Create a table with 20 rows and 4 columns that shows the weight for each of these features for each of the labels. Create the table again with bigram features. Any surprising features in this table?\n",
    "\n",
    "[5 pts]"
   ]
  },
  {
   "cell_type": "code",
   "execution_count": 100,
   "metadata": {},
   "outputs": [
    {
     "name": "stdout",
     "output_type": "stream",
     "text": [
      "Unigram (ngram_range=(1, 1))\n",
      "vocabulary size=26879\n",
      "accuracy=0.699704142012\n",
      "[[ 0.94 -0.41 -0.45 -0.43]\n",
      " [ 0.95 -0.62 -0.79 -0.06]\n",
      " [ 0.99 -0.22 -0.34 -0.46]\n",
      " [ 1.03 -0.1  -0.32 -0.83]\n",
      " [ 1.12 -0.4  -0.42 -0.4 ]\n",
      " [ 0.14  0.98 -0.68 -0.49]\n",
      " [-0.36  1.12 -0.7  -0.38]\n",
      " [-0.33  1.27 -0.81 -0.63]\n",
      " [-0.58  1.35 -0.83 -0.47]\n",
      " [-0.76  1.94 -1.34 -0.76]\n",
      " [-0.36 -0.39  0.92 -0.38]\n",
      " [-0.47 -0.47  0.94 -0.33]\n",
      " [-0.57 -0.48  1.01 -0.47]\n",
      " [-0.41 -0.67  1.22 -0.63]\n",
      " [-1.26 -1.32  2.16 -1.17]\n",
      " [-0.79 -0.08 -0.15  0.91]\n",
      " [-0.31 -0.27 -0.45  0.91]\n",
      " [-0.53 -0.11 -0.32  1.05]\n",
      " [-0.61 -0.42 -0.27  1.12]\n",
      " [-0.74 -0.41 -0.52  1.15]]\n",
      "\n",
      "-*-*-*-*-*-*-*-*-*-*-*-*-*-*-*-*-*-*-*-*-*-*-*-*-*-*-*-*\n",
      "\n",
      "Bigram (ngram_range=(2 ,2))\n",
      "vocabulary size=194891\n",
      "accuracy=0.627218934911\n",
      "[[ 0.57 -0.32 -0.58  0.  ]\n",
      " [ 0.63 -0.24 -0.2  -0.17]\n",
      " [ 0.65 -0.88 -0.82  0.6 ]\n",
      " [ 0.68 -0.19 -0.2  -0.3 ]\n",
      " [ 0.77 -0.26 -0.35 -0.2 ]\n",
      " [-0.32  0.9  -0.58 -0.33]\n",
      " [-0.43  0.91 -0.57 -0.34]\n",
      " [-0.55  0.97 -0.53 -0.51]\n",
      " [-0.38  1.04 -0.47 -0.4 ]\n",
      " [-0.76  1.32 -0.61 -0.7 ]\n",
      " [-0.16 -0.23  0.68 -0.16]\n",
      " [-0.24 -0.4   0.69 -0.26]\n",
      " [-0.32 -0.39  0.74 -0.27]\n",
      " [-0.4  -0.58  0.95 -0.24]\n",
      " [-0.31 -0.65  1.03 -0.32]\n",
      " [-0.18 -0.22 -0.2   0.65]\n",
      " [-0.17 -0.26 -0.36  0.65]\n",
      " [-0.13 -0.21 -0.2   0.7 ]\n",
      " [-0.15 -0.22 -0.19  0.71]\n",
      " [-0.23 -0.25 -0.21  0.75]]\n"
     ]
    }
   ],
   "source": [
    "def P4(range):\n",
    "### STUDENT START ###\n",
    "\n",
    "    # create CountVectorizer with ngram_range \n",
    "    vectorizer = CountVectorizer(ngram_range=range)\n",
    "    doc_matrix_train = vectorizer.fit_transform(train_data)\n",
    "    doc_matrix_dev = vectorizer.transform(dev_data)\n",
    "    \n",
    "    # create and fit a logistic regression model...\n",
    "    model = LogisticRegression()\n",
    "    model.fit(doc_matrix_train, train_labels)\n",
    "    \n",
    "    # Determine 5 features with biggest weights for each of the 4 classes\n",
    "    weights_sorted = np.argsort(model.coef_, axis=1)\n",
    "    \n",
    "    # Obtain index of maximum weights for each class, then flatten to create array of 20 features\n",
    "    weights_maxindex = weights_sorted[:, -5:].flatten()    \n",
    "    \n",
    "    # draw the table..\n",
    "    full_vocab = np.array(vectorizer.get_feature_names())\n",
    "    print \"vocabulary size={}\".format(len(full_vocab))\n",
    "    print \"accuracy={}\".format(model.score(doc_matrix_dev, dev_labels))\n",
    "    print np.transpose(np.round(model.coef_[:, weights_maxindex], 2))\n",
    "\n",
    "### STUDENT END ###\n",
    "print 'Unigram (ngram_range=(1, 1))'\n",
    "P4((1,1))\n",
    "\n",
    "print '\\n-*-*-*-*-*-*-*-*-*-*-*-*-*-*-*-*-*-*-*-*-*-*-*-*-*-*-*-*\\n' \n",
    "\n",
    "print 'Bigram (ngram_range=(2 ,2))'\n",
    "P4((2,2))"
   ]
  },
  {
   "cell_type": "markdown",
   "metadata": {},
   "source": [
    "ANSWER:"
   ]
  },
  {
   "cell_type": "markdown",
   "metadata": {},
   "source": [
    "(5) Try to improve the logistic regression classifier by passing a custom preprocessor to CountVectorizer. The preprocessing function runs on the raw text, before it is split into words by the tokenizer. Your preprocessor should try to normalize the input in various ways to improve generalization. For example, try lowercasing everything, replacing sequences of numbers with a single token, removing various other non-letter characters, and shortening long words. If you're not already familiar with regular expressions for manipulating strings, see https://docs.python.org/2/library/re.html, and re.sub() in particular. With your new preprocessor, how much did you reduce the size of the dictionary?\n",
    "\n",
    "For reference, I was able to improve dev F1 by 2 points.\n",
    "\n",
    "[4 pts]"
   ]
  },
  {
   "cell_type": "code",
   "execution_count": 80,
   "metadata": {},
   "outputs": [
    {
     "name": "stdout",
     "output_type": "stream",
     "text": [
      "score of logistic regression model [before] processing is=0.6793\n",
      "score of logistic regression model [after] processing is=0.6793\n"
     ]
    }
   ],
   "source": [
    "def empty_preprocessor(s):\n",
    "    return s\n",
    "\n",
    "def better_preprocessor(s):\n",
    "    new_string = [x.lower() for x in s]\n",
    "    new_string = [x.strip() for x in s]\n",
    "    #new_string = [re.sub('[^A-Za-z]', '', x) for x in s]\n",
    "\n",
    "    return new_string\n",
    "\n",
    "def P5():\n",
    "### STUDENT START ###\n",
    "    train_processed_data = better_preprocessor(train_data)\n",
    "    \n",
    "    # no processing applied...\n",
    "    vectorizer1 = CountVectorizer()\n",
    "    vc1_data = vectorizer1.fit_transform(train_data)\n",
    "    \n",
    "    # processed applied...\n",
    "    vectorizer2 = CountVectorizer()\n",
    "    vc2_data = vectorizer2.fit_transform(train_processed_data)\n",
    "    \n",
    "    # Vectorize the dev data for scoring our logistic regression models\n",
    "    vectorizer3 = CountVectorizer()\n",
    "    vc3_data = vectorizer3.fit(train_data)\n",
    "    vc3_data = vectorizer3.transform(dev_data)\n",
    "    \n",
    "    # Logistic regression without pre-processing\n",
    "    lg_model_1 = LogisticRegression()\n",
    "    lg_model_1.fit(vc1_data, train_labels)\n",
    "    preds1 = lg_model_1.predict(vc3_data)\n",
    "    score1 = metrics.f1_score(dev_labels, preds1, average=\"macro\")\n",
    "    print 'score of logistic regression model [before] processing is={:.4f}'.format(score1)\n",
    "    \n",
    "    # Logistic regression with pre-processing\n",
    "    lg_model_2 = LogisticRegression()\n",
    "    lg_model_2.fit(vc2_data, train_labels)    \n",
    "    preds2 = lg_model_2.predict(vc3_data)    \n",
    "    score2 = metrics.f1_score(dev_labels, preds2, average=\"macro\")    \n",
    "    print 'score of logistic regression model [after] processing is={:.4f}'.format(score2)\n",
    "\n",
    "    \n",
    "### STUDENT END ###\n",
    "P5()"
   ]
  },
  {
   "cell_type": "markdown",
   "metadata": {},
   "source": [
    "(6) The idea of regularization is to avoid learning very large weights (which are likely to fit the training data, but not generalize well) by adding a penalty to the total size of the learned weights. That is, logistic regression seeks the set of weights that minimizes errors in the training data AND has a small size. The default regularization, L2, computes this size as the sum of the squared weights (see P3, above). L1 regularization computes this size as the sum of the absolute values of the weights. The result is that whereas L2 regularization makes all the weights relatively small, L1 regularization drives lots of the weights to 0, effectively removing unimportant features.\n",
    "\n",
    "Train a logistic regression model using a \"l1\" penalty. Output the number of learned weights that are not equal to zero. How does this compare to the number of non-zero weights you get with \"l2\"? Now, reduce the size of the vocabulary by keeping only those features that have at least one non-zero weight and retrain a model using \"l2\".\n",
    "\n",
    "Make a plot showing accuracy of the re-trained model vs. the vocabulary size you get when pruning unused features by adjusting the C parameter.\n",
    "\n",
    "Note: The gradient descent code that trains the logistic regression model sometimes has trouble converging with extreme settings of the C parameter. Relax the convergence criteria by setting tol=.01 (the default is .0001).\n",
    "\n",
    "[4 pts]"
   ]
  },
  {
   "cell_type": "code",
   "execution_count": 8,
   "metadata": {
    "collapsed": true
   },
   "outputs": [],
   "source": [
    "def P6():\n",
    "    # Keep this random seed here to make comparison easier.\n",
    "    np.random.seed(0)\n",
    "\n",
    "    ### STUDENT START ###\n",
    "\n",
    "    \n",
    "\n",
    "    ### STUDENT END ###\n",
    "P6()"
   ]
  },
  {
   "cell_type": "markdown",
   "metadata": {},
   "source": [
    "(7) Use the TfidfVectorizer -- how is this different from the CountVectorizer? Train a logistic regression model with C=100.\n",
    "\n",
    "Make predictions on the dev data and show the top 3 documents where the ratio R is largest, where R is:\n",
    "\n",
    "maximum predicted probability / predicted probability of the correct label\n",
    "\n",
    "What kinds of mistakes is the model making? Suggest a way to address one particular issue that you see.\n",
    "\n",
    "[4 pts]"
   ]
  },
  {
   "cell_type": "code",
   "execution_count": 11,
   "metadata": {
    "collapsed": true
   },
   "outputs": [],
   "source": [
    "#def P7():\n",
    "    ### STUDENT START ###\n",
    "\n",
    "\n",
    "\n",
    "    ### STUDENT END ###\n",
    "#P7()"
   ]
  },
  {
   "cell_type": "markdown",
   "metadata": {},
   "source": [
    "ANSWER:"
   ]
  },
  {
   "cell_type": "markdown",
   "metadata": {},
   "source": [
    "(8) EXTRA CREDIT\n",
    "\n",
    "Try implementing one of your ideas based on your error analysis. Use logistic regression as your underlying model.\n",
    "\n",
    "- [1 pt] for a reasonable attempt\n",
    "- [2 pts] for improved performance"
   ]
  }
 ],
 "metadata": {
  "kernelspec": {
   "display_name": "Python 2",
   "language": "python",
   "name": "python2"
  },
  "language_info": {
   "codemirror_mode": {
    "name": "ipython",
    "version": 2
   },
   "file_extension": ".py",
   "mimetype": "text/x-python",
   "name": "python",
   "nbconvert_exporter": "python",
   "pygments_lexer": "ipython2",
   "version": "2.7.15"
  }
 },
 "nbformat": 4,
 "nbformat_minor": 1
}
